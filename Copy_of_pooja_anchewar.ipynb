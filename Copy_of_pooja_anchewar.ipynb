{
  "nbformat": 4,
  "nbformat_minor": 0,
  "metadata": {
    "colab": {
      "name": "Copy of pooja anchewar.ipynb",
      "provenance": [],
      "collapsed_sections": []
    },
    "kernelspec": {
      "name": "python3",
      "display_name": "Python 3"
    },
    "language_info": {
      "name": "python"
    }
  },
  "cells": [
    {
      "cell_type": "code",
      "metadata": {
        "id": "XXkgj32ehCie"
      },
      "source": [
        "text = 'pooja anchewar'\n"
      ],
      "execution_count": null,
      "outputs": []
    },
    {
      "cell_type": "code",
      "metadata": {
        "id": "X5maoaJyhQO_"
      },
      "source": [
        "import hashlib"
      ],
      "execution_count": null,
      "outputs": []
    },
    {
      "cell_type": "code",
      "metadata": {
        "id": "th3-n5qYhX7o"
      },
      "source": [
        "m=hashlib.md5()\n",
        "m.update(text.encode('utf-8'))"
      ],
      "execution_count": null,
      "outputs": []
    },
    {
      "cell_type": "code",
      "metadata": {
        "colab": {
          "base_uri": "https://localhost:8080/"
        },
        "id": "WRoBBSn3hl_k",
        "outputId": "d22d2527-b625-4ca5-9e6f-326e96fdb890"
      },
      "source": [
        "print(m.hexdigest())"
      ],
      "execution_count": null,
      "outputs": [
        {
          "output_type": "stream",
          "text": [
            "04483696f54c92994366ecc28abf9f79\n"
          ],
          "name": "stdout"
        }
      ]
    },
    {
      "cell_type": "code",
      "metadata": {
        "id": "15f8s7NmjzHf"
      },
      "source": [
        "m=hashlib.sha512()\n",
        "m.update(text.encode('utf-8'))\n"
      ],
      "execution_count": null,
      "outputs": []
    },
    {
      "cell_type": "code",
      "metadata": {
        "colab": {
          "base_uri": "https://localhost:8080/"
        },
        "id": "rHgdZQiFknak",
        "outputId": "8998bb3a-ce1f-4e11-c234-2414fa1f84c7"
      },
      "source": [
        "print(m.hexdigest())\n"
      ],
      "execution_count": null,
      "outputs": [
        {
          "output_type": "stream",
          "text": [
            "1366b29f09e3612c019a5fe86129af025c56dcd3f5fa18650af66e220910a4036af1886a5828c850866f3f7d8ddc3c6485f7b76550f16ef0086cdf86d32673d4\n"
          ],
          "name": "stdout"
        }
      ]
    },
    {
      "cell_type": "code",
      "metadata": {
        "id": "-RHVD7pckwl_"
      },
      "source": [
        "m=hashlib.sha256()\n",
        "m.update(text.encode('utf-8'))"
      ],
      "execution_count": null,
      "outputs": []
    },
    {
      "cell_type": "code",
      "metadata": {
        "id": "3IjVotMLk-JA"
      },
      "source": [
        ""
      ],
      "execution_count": null,
      "outputs": []
    },
    {
      "cell_type": "code",
      "metadata": {
        "colab": {
          "base_uri": "https://localhost:8080/"
        },
        "id": "3YP4tWV7lC-i",
        "outputId": "97b2c8ab-5264-479f-bebb-023962040e25"
      },
      "source": [
        "print(m.hexdigest())"
      ],
      "execution_count": null,
      "outputs": [
        {
          "output_type": "stream",
          "text": [
            "dc31f3b582e8a4dc4e781aff0d34550352f6dbcb25ce13af3d8656d5b75af670\n"
          ],
          "name": "stdout"
        }
      ]
    }
  ]
}